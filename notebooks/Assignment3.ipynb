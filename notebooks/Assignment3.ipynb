{
 "cells": [
  {
   "attachments": {},
   "cell_type": "markdown",
   "metadata": {},
   "source": [
    "### Importing Pandas library and set as \"pd\""
   ]
  },
  {
   "cell_type": "code",
   "execution_count": 1,
   "metadata": {},
   "outputs": [],
   "source": [
    "import pandas as pd\n",
    "import datetime\n",
    "%matplotlib inline"
   ]
  },
  {
   "attachments": {},
   "cell_type": "markdown",
   "metadata": {},
   "source": [
    "## Section 4.2: Read in your data"
   ]
  },
  {
   "attachments": {},
   "cell_type": "markdown",
   "metadata": {},
   "source": [
    "Data file salaries.csv was used for this exercise. Data source is Kaggle: https://www.kaggle.com/datasets/arnabchaki/data-science-salaries-2023 \n",
    "\n",
    "Column names are created, and set either, integer, category or float data types, depending on the underlying data.\n",
    "Spaces are replaced with Underscores. The created Dtypes are displayed below in the output"
   ]
  },
  {
   "cell_type": "code",
   "execution_count": 2,
   "metadata": {},
   "outputs": [
    {
     "data": {
      "text/plain": [
       "work_year               object\n",
       "experience_level      category\n",
       "employment_type       category\n",
       "job_title             category\n",
       "salary                 float64\n",
       "salary_currency       category\n",
       "salary_in_usd          float64\n",
       "employee_residence    category\n",
       "remote_ratio            object\n",
       "company_location      category\n",
       "company_size          category\n",
       "dtype: object"
      ]
     },
     "execution_count": 2,
     "metadata": {},
     "output_type": "execute_result"
    }
   ],
   "source": [
    "salary = pd.read_csv('../data/ds_salaries.csv',  \n",
    "                     dtype={'work_year': 'object',\n",
    "                           'experience_level': 'category',                                                    \n",
    "                           'employment_type': 'category',\n",
    "                           'job_title': 'category',\n",
    "                           'salary': 'float64',\n",
    "                           'salary_currency': 'category',\n",
    "                           'job_title': 'category',\n",
    "                           'salary_in_usd': 'float64',\n",
    "                           'employee_residence': 'category',\n",
    "                           'remote_ratio': 'object',\n",
    "                           'company_location': 'category',                                                      \n",
    "                           'company_size': 'category',},\n",
    "                           nrows=5000,\n",
    "                    )\n",
    "salary.rename(columns=lambda x: x.strip(\" \").replace(' ', '_'), inplace=True)\n",
    "salary.dtypes"
   ]
  },
  {
   "attachments": {},
   "cell_type": "markdown",
   "metadata": {},
   "source": [
    "## Section 4.3: Validating the packaging"
   ]
  },
  {
   "cell_type": "code",
   "execution_count": 3,
   "metadata": {},
   "outputs": [
    {
     "name": "stdout",
     "output_type": "stream",
     "text": [
      "(3755, 11)\n",
      "This data has 3755 Rows and 11 columns\n"
     ]
    }
   ],
   "source": [
    "print(salary.shape)\n",
    "print(\"This data has\", len(salary.index),\"Rows and\", len(salary.columns), \"columns\" )"
   ]
  },
  {
   "cell_type": "code",
   "execution_count": 4,
   "metadata": {},
   "outputs": [
    {
     "data": {
      "text/html": [
       "<div>\n",
       "<style scoped>\n",
       "    .dataframe tbody tr th:only-of-type {\n",
       "        vertical-align: middle;\n",
       "    }\n",
       "\n",
       "    .dataframe tbody tr th {\n",
       "        vertical-align: top;\n",
       "    }\n",
       "\n",
       "    .dataframe thead th {\n",
       "        text-align: right;\n",
       "    }\n",
       "</style>\n",
       "<table border=\"1\" class=\"dataframe\">\n",
       "  <thead>\n",
       "    <tr style=\"text-align: right;\">\n",
       "      <th></th>\n",
       "      <th>count</th>\n",
       "      <th>unique</th>\n",
       "      <th>top</th>\n",
       "      <th>freq</th>\n",
       "      <th>mean</th>\n",
       "      <th>std</th>\n",
       "      <th>min</th>\n",
       "      <th>25%</th>\n",
       "      <th>50%</th>\n",
       "      <th>75%</th>\n",
       "      <th>max</th>\n",
       "    </tr>\n",
       "  </thead>\n",
       "  <tbody>\n",
       "    <tr>\n",
       "      <th>work_year</th>\n",
       "      <td>3755</td>\n",
       "      <td>4</td>\n",
       "      <td>2023</td>\n",
       "      <td>1785</td>\n",
       "      <td>NaN</td>\n",
       "      <td>NaN</td>\n",
       "      <td>NaN</td>\n",
       "      <td>NaN</td>\n",
       "      <td>NaN</td>\n",
       "      <td>NaN</td>\n",
       "      <td>NaN</td>\n",
       "    </tr>\n",
       "    <tr>\n",
       "      <th>experience_level</th>\n",
       "      <td>3755</td>\n",
       "      <td>4</td>\n",
       "      <td>SE</td>\n",
       "      <td>2516</td>\n",
       "      <td>NaN</td>\n",
       "      <td>NaN</td>\n",
       "      <td>NaN</td>\n",
       "      <td>NaN</td>\n",
       "      <td>NaN</td>\n",
       "      <td>NaN</td>\n",
       "      <td>NaN</td>\n",
       "    </tr>\n",
       "    <tr>\n",
       "      <th>employment_type</th>\n",
       "      <td>3755</td>\n",
       "      <td>4</td>\n",
       "      <td>FT</td>\n",
       "      <td>3718</td>\n",
       "      <td>NaN</td>\n",
       "      <td>NaN</td>\n",
       "      <td>NaN</td>\n",
       "      <td>NaN</td>\n",
       "      <td>NaN</td>\n",
       "      <td>NaN</td>\n",
       "      <td>NaN</td>\n",
       "    </tr>\n",
       "    <tr>\n",
       "      <th>job_title</th>\n",
       "      <td>3755</td>\n",
       "      <td>93</td>\n",
       "      <td>Data Engineer</td>\n",
       "      <td>1040</td>\n",
       "      <td>NaN</td>\n",
       "      <td>NaN</td>\n",
       "      <td>NaN</td>\n",
       "      <td>NaN</td>\n",
       "      <td>NaN</td>\n",
       "      <td>NaN</td>\n",
       "      <td>NaN</td>\n",
       "    </tr>\n",
       "    <tr>\n",
       "      <th>salary</th>\n",
       "      <td>3755.0</td>\n",
       "      <td>NaN</td>\n",
       "      <td>NaN</td>\n",
       "      <td>NaN</td>\n",
       "      <td>190695.571771</td>\n",
       "      <td>671676.500508</td>\n",
       "      <td>6000.0</td>\n",
       "      <td>100000.0</td>\n",
       "      <td>138000.0</td>\n",
       "      <td>180000.0</td>\n",
       "      <td>30400000.0</td>\n",
       "    </tr>\n",
       "    <tr>\n",
       "      <th>salary_currency</th>\n",
       "      <td>3755</td>\n",
       "      <td>20</td>\n",
       "      <td>USD</td>\n",
       "      <td>3224</td>\n",
       "      <td>NaN</td>\n",
       "      <td>NaN</td>\n",
       "      <td>NaN</td>\n",
       "      <td>NaN</td>\n",
       "      <td>NaN</td>\n",
       "      <td>NaN</td>\n",
       "      <td>NaN</td>\n",
       "    </tr>\n",
       "    <tr>\n",
       "      <th>salary_in_usd</th>\n",
       "      <td>3755.0</td>\n",
       "      <td>NaN</td>\n",
       "      <td>NaN</td>\n",
       "      <td>NaN</td>\n",
       "      <td>137570.38988</td>\n",
       "      <td>63055.625278</td>\n",
       "      <td>5132.0</td>\n",
       "      <td>95000.0</td>\n",
       "      <td>135000.0</td>\n",
       "      <td>175000.0</td>\n",
       "      <td>450000.0</td>\n",
       "    </tr>\n",
       "    <tr>\n",
       "      <th>employee_residence</th>\n",
       "      <td>3755</td>\n",
       "      <td>78</td>\n",
       "      <td>US</td>\n",
       "      <td>3004</td>\n",
       "      <td>NaN</td>\n",
       "      <td>NaN</td>\n",
       "      <td>NaN</td>\n",
       "      <td>NaN</td>\n",
       "      <td>NaN</td>\n",
       "      <td>NaN</td>\n",
       "      <td>NaN</td>\n",
       "    </tr>\n",
       "    <tr>\n",
       "      <th>remote_ratio</th>\n",
       "      <td>3755</td>\n",
       "      <td>3</td>\n",
       "      <td>0</td>\n",
       "      <td>1923</td>\n",
       "      <td>NaN</td>\n",
       "      <td>NaN</td>\n",
       "      <td>NaN</td>\n",
       "      <td>NaN</td>\n",
       "      <td>NaN</td>\n",
       "      <td>NaN</td>\n",
       "      <td>NaN</td>\n",
       "    </tr>\n",
       "    <tr>\n",
       "      <th>company_location</th>\n",
       "      <td>3755</td>\n",
       "      <td>72</td>\n",
       "      <td>US</td>\n",
       "      <td>3040</td>\n",
       "      <td>NaN</td>\n",
       "      <td>NaN</td>\n",
       "      <td>NaN</td>\n",
       "      <td>NaN</td>\n",
       "      <td>NaN</td>\n",
       "      <td>NaN</td>\n",
       "      <td>NaN</td>\n",
       "    </tr>\n",
       "    <tr>\n",
       "      <th>company_size</th>\n",
       "      <td>3755</td>\n",
       "      <td>3</td>\n",
       "      <td>M</td>\n",
       "      <td>3153</td>\n",
       "      <td>NaN</td>\n",
       "      <td>NaN</td>\n",
       "      <td>NaN</td>\n",
       "      <td>NaN</td>\n",
       "      <td>NaN</td>\n",
       "      <td>NaN</td>\n",
       "      <td>NaN</td>\n",
       "    </tr>\n",
       "  </tbody>\n",
       "</table>\n",
       "</div>"
      ],
      "text/plain": [
       "                     count unique            top  freq           mean   \n",
       "work_year             3755      4           2023  1785            NaN  \\\n",
       "experience_level      3755      4             SE  2516            NaN   \n",
       "employment_type       3755      4             FT  3718            NaN   \n",
       "job_title             3755     93  Data Engineer  1040            NaN   \n",
       "salary              3755.0    NaN            NaN   NaN  190695.571771   \n",
       "salary_currency       3755     20            USD  3224            NaN   \n",
       "salary_in_usd       3755.0    NaN            NaN   NaN   137570.38988   \n",
       "employee_residence    3755     78             US  3004            NaN   \n",
       "remote_ratio          3755      3              0  1923            NaN   \n",
       "company_location      3755     72             US  3040            NaN   \n",
       "company_size          3755      3              M  3153            NaN   \n",
       "\n",
       "                              std     min       25%       50%       75%   \n",
       "work_year                     NaN     NaN       NaN       NaN       NaN  \\\n",
       "experience_level              NaN     NaN       NaN       NaN       NaN   \n",
       "employment_type               NaN     NaN       NaN       NaN       NaN   \n",
       "job_title                     NaN     NaN       NaN       NaN       NaN   \n",
       "salary              671676.500508  6000.0  100000.0  138000.0  180000.0   \n",
       "salary_currency               NaN     NaN       NaN       NaN       NaN   \n",
       "salary_in_usd        63055.625278  5132.0   95000.0  135000.0  175000.0   \n",
       "employee_residence            NaN     NaN       NaN       NaN       NaN   \n",
       "remote_ratio                  NaN     NaN       NaN       NaN       NaN   \n",
       "company_location              NaN     NaN       NaN       NaN       NaN   \n",
       "company_size                  NaN     NaN       NaN       NaN       NaN   \n",
       "\n",
       "                           max  \n",
       "work_year                  NaN  \n",
       "experience_level           NaN  \n",
       "employment_type            NaN  \n",
       "job_title                  NaN  \n",
       "salary              30400000.0  \n",
       "salary_currency            NaN  \n",
       "salary_in_usd         450000.0  \n",
       "employee_residence         NaN  \n",
       "remote_ratio               NaN  \n",
       "company_location           NaN  \n",
       "company_size               NaN  "
      ]
     },
     "execution_count": 4,
     "metadata": {},
     "output_type": "execute_result"
    }
   ],
   "source": [
    "##Decribe() function does a statistical analysis on the data.\n",
    "salary.describe(include='all').T"
   ]
  },
  {
   "cell_type": "code",
   "execution_count": 5,
   "metadata": {},
   "outputs": [
    {
     "data": {
      "text/html": [
       "<div>\n",
       "<style scoped>\n",
       "    .dataframe tbody tr th:only-of-type {\n",
       "        vertical-align: middle;\n",
       "    }\n",
       "\n",
       "    .dataframe tbody tr th {\n",
       "        vertical-align: top;\n",
       "    }\n",
       "\n",
       "    .dataframe thead th {\n",
       "        text-align: right;\n",
       "    }\n",
       "</style>\n",
       "<table border=\"1\" class=\"dataframe\">\n",
       "  <thead>\n",
       "    <tr style=\"text-align: right;\">\n",
       "      <th></th>\n",
       "      <th>793</th>\n",
       "      <th>35</th>\n",
       "      <th>2818</th>\n",
       "      <th>2433</th>\n",
       "      <th>1526</th>\n",
       "    </tr>\n",
       "  </thead>\n",
       "  <tbody>\n",
       "    <tr>\n",
       "      <th>work_year</th>\n",
       "      <td>2023</td>\n",
       "      <td>2023</td>\n",
       "      <td>2022</td>\n",
       "      <td>2022</td>\n",
       "      <td>2023</td>\n",
       "    </tr>\n",
       "    <tr>\n",
       "      <th>experience_level</th>\n",
       "      <td>SE</td>\n",
       "      <td>MI</td>\n",
       "      <td>SE</td>\n",
       "      <td>SE</td>\n",
       "      <td>SE</td>\n",
       "    </tr>\n",
       "    <tr>\n",
       "      <th>employment_type</th>\n",
       "      <td>FT</td>\n",
       "      <td>FT</td>\n",
       "      <td>FT</td>\n",
       "      <td>FT</td>\n",
       "      <td>FT</td>\n",
       "    </tr>\n",
       "    <tr>\n",
       "      <th>job_title</th>\n",
       "      <td>Data Science Manager</td>\n",
       "      <td>Data Engineer</td>\n",
       "      <td>Applied Machine Learning Scientist</td>\n",
       "      <td>Data Engineer</td>\n",
       "      <td>ML Engineer</td>\n",
       "    </tr>\n",
       "    <tr>\n",
       "      <th>salary</th>\n",
       "      <td>299500.0</td>\n",
       "      <td>162500.0</td>\n",
       "      <td>108000.0</td>\n",
       "      <td>184100.0</td>\n",
       "      <td>135000.0</td>\n",
       "    </tr>\n",
       "    <tr>\n",
       "      <th>salary_currency</th>\n",
       "      <td>USD</td>\n",
       "      <td>USD</td>\n",
       "      <td>USD</td>\n",
       "      <td>USD</td>\n",
       "      <td>USD</td>\n",
       "    </tr>\n",
       "    <tr>\n",
       "      <th>salary_in_usd</th>\n",
       "      <td>299500.0</td>\n",
       "      <td>162500.0</td>\n",
       "      <td>108000.0</td>\n",
       "      <td>184100.0</td>\n",
       "      <td>135000.0</td>\n",
       "    </tr>\n",
       "    <tr>\n",
       "      <th>employee_residence</th>\n",
       "      <td>US</td>\n",
       "      <td>US</td>\n",
       "      <td>US</td>\n",
       "      <td>US</td>\n",
       "      <td>US</td>\n",
       "    </tr>\n",
       "    <tr>\n",
       "      <th>remote_ratio</th>\n",
       "      <td>0</td>\n",
       "      <td>0</td>\n",
       "      <td>0</td>\n",
       "      <td>0</td>\n",
       "      <td>0</td>\n",
       "    </tr>\n",
       "    <tr>\n",
       "      <th>company_location</th>\n",
       "      <td>US</td>\n",
       "      <td>US</td>\n",
       "      <td>US</td>\n",
       "      <td>US</td>\n",
       "      <td>US</td>\n",
       "    </tr>\n",
       "    <tr>\n",
       "      <th>company_size</th>\n",
       "      <td>M</td>\n",
       "      <td>M</td>\n",
       "      <td>L</td>\n",
       "      <td>M</td>\n",
       "      <td>M</td>\n",
       "    </tr>\n",
       "  </tbody>\n",
       "</table>\n",
       "</div>"
      ],
      "text/plain": [
       "                                    793            35     \n",
       "work_year                           2023           2023  \\\n",
       "experience_level                      SE             MI   \n",
       "employment_type                       FT             FT   \n",
       "job_title           Data Science Manager  Data Engineer   \n",
       "salary                          299500.0       162500.0   \n",
       "salary_currency                      USD            USD   \n",
       "salary_in_usd                   299500.0       162500.0   \n",
       "employee_residence                    US             US   \n",
       "remote_ratio                           0              0   \n",
       "company_location                      US             US   \n",
       "company_size                           M              M   \n",
       "\n",
       "                                                  2818           2433   \n",
       "work_year                                         2022           2022  \\\n",
       "experience_level                                    SE             SE   \n",
       "employment_type                                     FT             FT   \n",
       "job_title           Applied Machine Learning Scientist  Data Engineer   \n",
       "salary                                        108000.0       184100.0   \n",
       "salary_currency                                    USD            USD   \n",
       "salary_in_usd                                 108000.0       184100.0   \n",
       "employee_residence                                  US             US   \n",
       "remote_ratio                                         0              0   \n",
       "company_location                                    US             US   \n",
       "company_size                                         L              M   \n",
       "\n",
       "                           1526  \n",
       "work_year                  2023  \n",
       "experience_level             SE  \n",
       "employment_type              FT  \n",
       "job_title           ML Engineer  \n",
       "salary                 135000.0  \n",
       "salary_currency             USD  \n",
       "salary_in_usd          135000.0  \n",
       "employee_residence           US  \n",
       "remote_ratio                  0  \n",
       "company_location             US  \n",
       "company_size                  M  "
      ]
     },
     "execution_count": 5,
     "metadata": {},
     "output_type": "execute_result"
    }
   ],
   "source": [
    "salary.sample(5).T"
   ]
  },
  {
   "attachments": {},
   "cell_type": "markdown",
   "metadata": {},
   "source": [
    "## Section 4.4: Look at the top and the bottom"
   ]
  },
  {
   "attachments": {},
   "cell_type": "markdown",
   "metadata": {},
   "source": [
    "The top 5 rows were validated against the csv file, and is correct"
   ]
  },
  {
   "cell_type": "code",
   "execution_count": 6,
   "metadata": {},
   "outputs": [
    {
     "data": {
      "text/html": [
       "<div>\n",
       "<style scoped>\n",
       "    .dataframe tbody tr th:only-of-type {\n",
       "        vertical-align: middle;\n",
       "    }\n",
       "\n",
       "    .dataframe tbody tr th {\n",
       "        vertical-align: top;\n",
       "    }\n",
       "\n",
       "    .dataframe thead th {\n",
       "        text-align: right;\n",
       "    }\n",
       "</style>\n",
       "<table border=\"1\" class=\"dataframe\">\n",
       "  <thead>\n",
       "    <tr style=\"text-align: right;\">\n",
       "      <th></th>\n",
       "      <th>experience_level</th>\n",
       "      <th>job_title</th>\n",
       "      <th>work_year</th>\n",
       "    </tr>\n",
       "  </thead>\n",
       "  <tbody>\n",
       "    <tr>\n",
       "      <th>0</th>\n",
       "      <td>SE</td>\n",
       "      <td>Principal Data Scientist</td>\n",
       "      <td>2023</td>\n",
       "    </tr>\n",
       "    <tr>\n",
       "      <th>1</th>\n",
       "      <td>MI</td>\n",
       "      <td>ML Engineer</td>\n",
       "      <td>2023</td>\n",
       "    </tr>\n",
       "    <tr>\n",
       "      <th>2</th>\n",
       "      <td>MI</td>\n",
       "      <td>ML Engineer</td>\n",
       "      <td>2023</td>\n",
       "    </tr>\n",
       "    <tr>\n",
       "      <th>3</th>\n",
       "      <td>SE</td>\n",
       "      <td>Data Scientist</td>\n",
       "      <td>2023</td>\n",
       "    </tr>\n",
       "    <tr>\n",
       "      <th>4</th>\n",
       "      <td>SE</td>\n",
       "      <td>Data Scientist</td>\n",
       "      <td>2023</td>\n",
       "    </tr>\n",
       "  </tbody>\n",
       "</table>\n",
       "</div>"
      ],
      "text/plain": [
       "  experience_level                 job_title work_year\n",
       "0               SE  Principal Data Scientist      2023\n",
       "1               MI               ML Engineer      2023\n",
       "2               MI               ML Engineer      2023\n",
       "3               SE            Data Scientist      2023\n",
       "4               SE            Data Scientist      2023"
      ]
     },
     "execution_count": 6,
     "metadata": {},
     "output_type": "execute_result"
    }
   ],
   "source": [
    "##returning the top 5 rows\n",
    "salary.iloc[:,[1,3,0]].head()"
   ]
  },
  {
   "attachments": {},
   "cell_type": "markdown",
   "metadata": {},
   "source": [
    "The bottom 5 rows were validated against the csv file, and is correct"
   ]
  },
  {
   "cell_type": "code",
   "execution_count": 7,
   "metadata": {},
   "outputs": [
    {
     "data": {
      "text/html": [
       "<div>\n",
       "<style scoped>\n",
       "    .dataframe tbody tr th:only-of-type {\n",
       "        vertical-align: middle;\n",
       "    }\n",
       "\n",
       "    .dataframe tbody tr th {\n",
       "        vertical-align: top;\n",
       "    }\n",
       "\n",
       "    .dataframe thead th {\n",
       "        text-align: right;\n",
       "    }\n",
       "</style>\n",
       "<table border=\"1\" class=\"dataframe\">\n",
       "  <thead>\n",
       "    <tr style=\"text-align: right;\">\n",
       "      <th></th>\n",
       "      <th>experience_level</th>\n",
       "      <th>job_title</th>\n",
       "      <th>work_year</th>\n",
       "    </tr>\n",
       "  </thead>\n",
       "  <tbody>\n",
       "    <tr>\n",
       "      <th>3750</th>\n",
       "      <td>SE</td>\n",
       "      <td>Data Scientist</td>\n",
       "      <td>2020</td>\n",
       "    </tr>\n",
       "    <tr>\n",
       "      <th>3751</th>\n",
       "      <td>MI</td>\n",
       "      <td>Principal Data Scientist</td>\n",
       "      <td>2021</td>\n",
       "    </tr>\n",
       "    <tr>\n",
       "      <th>3752</th>\n",
       "      <td>EN</td>\n",
       "      <td>Data Scientist</td>\n",
       "      <td>2020</td>\n",
       "    </tr>\n",
       "    <tr>\n",
       "      <th>3753</th>\n",
       "      <td>EN</td>\n",
       "      <td>Business Data Analyst</td>\n",
       "      <td>2020</td>\n",
       "    </tr>\n",
       "    <tr>\n",
       "      <th>3754</th>\n",
       "      <td>SE</td>\n",
       "      <td>Data Science Manager</td>\n",
       "      <td>2021</td>\n",
       "    </tr>\n",
       "  </tbody>\n",
       "</table>\n",
       "</div>"
      ],
      "text/plain": [
       "     experience_level                 job_title work_year\n",
       "3750               SE            Data Scientist      2020\n",
       "3751               MI  Principal Data Scientist      2021\n",
       "3752               EN            Data Scientist      2020\n",
       "3753               EN     Business Data Analyst      2020\n",
       "3754               SE      Data Science Manager      2021"
      ]
     },
     "execution_count": 7,
     "metadata": {},
     "output_type": "execute_result"
    }
   ],
   "source": [
    "##returning the bottom 5 rows\n",
    "salary.iloc[:,[1,3,0]].tail()"
   ]
  },
  {
   "attachments": {},
   "cell_type": "markdown",
   "metadata": {},
   "source": [
    "## Section 4.5: ABC: Always be Checking Your “n”s"
   ]
  },
  {
   "attachments": {},
   "cell_type": "markdown",
   "metadata": {},
   "source": [
    "Majority of the candidates (67%) were seniors (SE) and (21%) Mid/intermediate level (MI). So expecting to see the composition containing at least these two values."
   ]
  },
  {
   "cell_type": "code",
   "execution_count": 8,
   "metadata": {},
   "outputs": [
    {
     "data": {
      "text/plain": [
       "0     SE\n",
       "1     MI\n",
       "2     MI\n",
       "3     SE\n",
       "4     SE\n",
       "5     SE\n",
       "6     SE\n",
       "7     SE\n",
       "8     SE\n",
       "9     SE\n",
       "10    SE\n",
       "11    SE\n",
       "12    SE\n",
       "13    EN\n",
       "14    EN\n",
       "15    SE\n",
       "16    SE\n",
       "17    SE\n",
       "18    SE\n",
       "19    MI\n",
       "Name: experience_level, dtype: category\n",
       "Categories (4, object): ['EN', 'EX', 'MI', 'SE']"
      ]
     },
     "execution_count": 8,
     "metadata": {},
     "output_type": "execute_result"
    }
   ],
   "source": [
    "salary.experience_level.head(20)"
   ]
  },
  {
   "attachments": {},
   "cell_type": "markdown",
   "metadata": {},
   "source": [
    "There are only 4 types allowed employment types, being Full tume (FT), Part time (PT), Freelancer (FL) and Contractor (CT)"
   ]
  },
  {
   "cell_type": "code",
   "execution_count": 9,
   "metadata": {},
   "outputs": [
    {
     "data": {
      "text/plain": [
       "['FT', 'CT', 'FL', 'PT']\n",
       "Categories (4, object): ['CT', 'FL', 'FT', 'PT']"
      ]
     },
     "execution_count": 9,
     "metadata": {},
     "output_type": "execute_result"
    }
   ],
   "source": [
    "salary.employment_type.unique()"
   ]
  },
  {
   "attachments": {},
   "cell_type": "markdown",
   "metadata": {},
   "source": [
    "There are only 4 allowed experience levels, being (SE) Senior, (EN)Entry level, (EX) Executive level, and (MI) Mid/Intermediate level"
   ]
  },
  {
   "cell_type": "code",
   "execution_count": 10,
   "metadata": {},
   "outputs": [
    {
     "data": {
      "text/plain": [
       "['SE', 'MI', 'EN', 'EX']\n",
       "Categories (4, object): ['EN', 'EX', 'MI', 'SE']"
      ]
     },
     "execution_count": 10,
     "metadata": {},
     "output_type": "execute_result"
    }
   ],
   "source": [
    "salary.experience_level.unique()"
   ]
  },
  {
   "attachments": {},
   "cell_type": "markdown",
   "metadata": {},
   "source": [
    "An extract of data scientists that are Full time earning a salary above $300 000 in most recent year of 2023. Expecting 5 results."
   ]
  },
  {
   "cell_type": "code",
   "execution_count": 11,
   "metadata": {},
   "outputs": [
    {
     "data": {
      "text/html": [
       "<div>\n",
       "<style scoped>\n",
       "    .dataframe tbody tr th:only-of-type {\n",
       "        vertical-align: middle;\n",
       "    }\n",
       "\n",
       "    .dataframe tbody tr th {\n",
       "        vertical-align: top;\n",
       "    }\n",
       "\n",
       "    .dataframe thead th {\n",
       "        text-align: right;\n",
       "    }\n",
       "</style>\n",
       "<table border=\"1\" class=\"dataframe\">\n",
       "  <thead>\n",
       "    <tr style=\"text-align: right;\">\n",
       "      <th></th>\n",
       "      <th>employment_type</th>\n",
       "      <th>job_title</th>\n",
       "      <th>salary</th>\n",
       "      <th>salary_currency</th>\n",
       "      <th>work_year</th>\n",
       "    </tr>\n",
       "  </thead>\n",
       "  <tbody>\n",
       "    <tr>\n",
       "      <th>488</th>\n",
       "      <td>FT</td>\n",
       "      <td>Data Scientist</td>\n",
       "      <td>317070.0</td>\n",
       "      <td>USD</td>\n",
       "      <td>2023</td>\n",
       "    </tr>\n",
       "    <tr>\n",
       "      <th>1097</th>\n",
       "      <td>FT</td>\n",
       "      <td>Data Scientist</td>\n",
       "      <td>300240.0</td>\n",
       "      <td>USD</td>\n",
       "      <td>2023</td>\n",
       "    </tr>\n",
       "    <tr>\n",
       "      <th>1099</th>\n",
       "      <td>FT</td>\n",
       "      <td>Data Scientist</td>\n",
       "      <td>300240.0</td>\n",
       "      <td>USD</td>\n",
       "      <td>2023</td>\n",
       "    </tr>\n",
       "    <tr>\n",
       "      <th>1105</th>\n",
       "      <td>FT</td>\n",
       "      <td>Data Scientist</td>\n",
       "      <td>370000.0</td>\n",
       "      <td>USD</td>\n",
       "      <td>2023</td>\n",
       "    </tr>\n",
       "    <tr>\n",
       "      <th>1605</th>\n",
       "      <td>FT</td>\n",
       "      <td>Data Scientist</td>\n",
       "      <td>300000.0</td>\n",
       "      <td>USD</td>\n",
       "      <td>2023</td>\n",
       "    </tr>\n",
       "  </tbody>\n",
       "</table>\n",
       "</div>"
      ],
      "text/plain": [
       "     employment_type       job_title    salary salary_currency work_year\n",
       "488               FT  Data Scientist  317070.0             USD      2023\n",
       "1097              FT  Data Scientist  300240.0             USD      2023\n",
       "1099              FT  Data Scientist  300240.0             USD      2023\n",
       "1105              FT  Data Scientist  370000.0             USD      2023\n",
       "1605              FT  Data Scientist  300000.0             USD      2023"
      ]
     },
     "execution_count": 11,
     "metadata": {},
     "output_type": "execute_result"
    }
   ],
   "source": [
    "salary.loc[(salary.employment_type=='FT') & \n",
    "           (salary.job_title=='Data Scientist') &\n",
    "          (salary.salary >= 300000) &\n",
    "          (salary.salary_currency == 'USD') &\n",
    "          (salary.work_year >= '2023'),\n",
    "          ['employment_type','job_title','salary','salary_currency','work_year']]"
   ]
  },
  {
   "cell_type": "code",
   "execution_count": 12,
   "metadata": {},
   "outputs": [
    {
     "data": {
      "text/plain": [
       "93"
      ]
     },
     "execution_count": 12,
     "metadata": {},
     "output_type": "execute_result"
    }
   ],
   "source": [
    "len(salary.job_title.unique())"
   ]
  },
  {
   "cell_type": "code",
   "execution_count": 13,
   "metadata": {},
   "outputs": [
    {
     "data": {
      "text/plain": [
       "0     AUD\n",
       "1     BRL\n",
       "2     CAD\n",
       "3     CHF\n",
       "4     CLP\n",
       "5     CZK\n",
       "6     DKK\n",
       "7     EUR\n",
       "8     GBP\n",
       "9     HKD\n",
       "10    HUF\n",
       "11    ILS\n",
       "12    INR\n",
       "13    JPY\n",
       "14    MXN\n",
       "15    PLN\n",
       "16    SGD\n",
       "17    THB\n",
       "18    TRY\n",
       "19    USD\n",
       "dtype: object"
      ]
     },
     "execution_count": 13,
     "metadata": {},
     "output_type": "execute_result"
    }
   ],
   "source": [
    "pd.Series(salary.salary_currency.cat.categories)"
   ]
  },
  {
   "attachments": {},
   "cell_type": "markdown",
   "metadata": {},
   "source": [
    "## Section 4.6: Validate With at Least One External Data Source"
   ]
  },
  {
   "attachments": {},
   "cell_type": "markdown",
   "metadata": {},
   "source": [
    "The sample size contains majority Senior individuals. 4 different expereince levels are avaliable. SE roles appeared 2516 of the total sample which is approximately 67%."
   ]
  },
  {
   "cell_type": "code",
   "execution_count": 14,
   "metadata": {},
   "outputs": [
    {
     "data": {
      "text/plain": [
       "count     3755\n",
       "unique       4\n",
       "top         SE\n",
       "freq      2516\n",
       "Name: experience_level, dtype: object"
      ]
     },
     "execution_count": 14,
     "metadata": {},
     "output_type": "execute_result"
    }
   ],
   "source": [
    "salary.experience_level.describe()"
   ]
  },
  {
   "attachments": {},
   "cell_type": "markdown",
   "metadata": {},
   "source": [
    "The salary values were sampled and grouped into different quantiles. Majority of roles within the 4th till 8th quantile."
   ]
  },
  {
   "cell_type": "code",
   "execution_count": 15,
   "metadata": {},
   "outputs": [
    {
     "data": {
      "text/plain": [
       "0.0        6000.0\n",
       "0.1       60000.0\n",
       "0.2       85000.0\n",
       "0.3      106260.0\n",
       "0.4      123628.8\n",
       "0.5      138000.0\n",
       "0.6      150000.0\n",
       "0.7      170000.0\n",
       "0.8      191475.0\n",
       "0.9      228600.0\n",
       "1.0    30400000.0\n",
       "Name: salary, dtype: float64"
      ]
     },
     "execution_count": 15,
     "metadata": {},
     "output_type": "execute_result"
    }
   ],
   "source": [
    "salary.salary.quantile([0.0,0.1,0.2,0.3,0.4,0.5,0.6,0.7,0.8,0.9,1.0])"
   ]
  },
  {
   "attachments": {},
   "cell_type": "markdown",
   "metadata": {},
   "source": [
    "## Section 4.7"
   ]
  },
  {
   "cell_type": "code",
   "execution_count": 16,
   "metadata": {},
   "outputs": [],
   "source": [
    "import seaborn as sns"
   ]
  },
  {
   "cell_type": "code",
   "execution_count": null,
   "metadata": {},
   "outputs": [
    {
     "ename": "TypeError",
     "evalue": "Neither the `x` nor `y` variable appears to be numeric.",
     "output_type": "error",
     "traceback": [
      "\u001b[0;31m---------------------------------------------------------------------------\u001b[0m",
      "\u001b[0;31mTypeError\u001b[0m                                 Traceback (most recent call last)",
      "Cell \u001b[0;32mIn[36], line 1\u001b[0m\n\u001b[0;32m----> 1\u001b[0m g \u001b[39m=\u001b[39m sns\u001b[39m.\u001b[39;49mcatplot(data\u001b[39m=\u001b[39;49msalary\u001b[39m.\u001b[39;49msample(\u001b[39m3755\u001b[39;49m), x\u001b[39m=\u001b[39;49m\u001b[39m'\u001b[39;49m\u001b[39mjob_title\u001b[39;49m\u001b[39m'\u001b[39;49m, y\u001b[39m=\u001b[39;49m\u001b[39m'\u001b[39;49m\u001b[39msalary_in_usd\u001b[39;49m\u001b[39m'\u001b[39;49m, kind\u001b[39m=\u001b[39;49m\u001b[39m'\u001b[39;49m\u001b[39mbox\u001b[39;49m\u001b[39m'\u001b[39;49m, aspect\u001b[39m=\u001b[39;49m\u001b[39m3.0\u001b[39;49m)\n\u001b[1;32m      2\u001b[0m g\u001b[39m.\u001b[39mset_axis_labels(\u001b[39m\"\u001b[39m\u001b[39m\"\u001b[39m, \u001b[39m\"\u001b[39m\u001b[39mSalary (USD)\u001b[39m\u001b[39m\"\u001b[39m)\n\u001b[1;32m      3\u001b[0m g\u001b[39m.\u001b[39mset_xticklabels(rotation\u001b[39m=\u001b[39m\u001b[39m80\u001b[39m);\n",
      "File \u001b[0;32m~/.local/lib/python3.10/site-packages/seaborn/categorical.py:3187\u001b[0m, in \u001b[0;36mcatplot\u001b[0;34m(data, x, y, hue, row, col, col_wrap, estimator, errorbar, n_boot, units, seed, order, hue_order, row_order, col_order, height, aspect, kind, native_scale, formatter, orient, color, palette, hue_norm, legend, legend_out, sharex, sharey, margin_titles, facet_kws, ci, **kwargs)\u001b[0m\n\u001b[1;32m   3185\u001b[0m p \u001b[39m=\u001b[39m _CategoricalPlotter()\n\u001b[1;32m   3186\u001b[0m p\u001b[39m.\u001b[39mrequire_numeric \u001b[39m=\u001b[39m plotter_class\u001b[39m.\u001b[39mrequire_numeric\n\u001b[0;32m-> 3187\u001b[0m p\u001b[39m.\u001b[39;49mestablish_variables(x_, y_, hue, data, orient, order, hue_order)\n\u001b[1;32m   3188\u001b[0m \u001b[39mif\u001b[39;00m (\n\u001b[1;32m   3189\u001b[0m     order \u001b[39mis\u001b[39;00m \u001b[39mnot\u001b[39;00m \u001b[39mNone\u001b[39;00m\n\u001b[1;32m   3190\u001b[0m     \u001b[39mor\u001b[39;00m (sharex \u001b[39mand\u001b[39;00m p\u001b[39m.\u001b[39morient \u001b[39m==\u001b[39m \u001b[39m\"\u001b[39m\u001b[39mv\u001b[39m\u001b[39m\"\u001b[39m)\n\u001b[1;32m   3191\u001b[0m     \u001b[39mor\u001b[39;00m (sharey \u001b[39mand\u001b[39;00m p\u001b[39m.\u001b[39morient \u001b[39m==\u001b[39m \u001b[39m\"\u001b[39m\u001b[39mh\u001b[39m\u001b[39m\"\u001b[39m)\n\u001b[1;32m   3192\u001b[0m ):\n\u001b[1;32m   3193\u001b[0m     \u001b[39m# Sync categorical axis between facets to have the same categories\u001b[39;00m\n\u001b[1;32m   3194\u001b[0m     order \u001b[39m=\u001b[39m p\u001b[39m.\u001b[39mgroup_names\n",
      "File \u001b[0;32m~/.local/lib/python3.10/site-packages/seaborn/categorical.py:544\u001b[0m, in \u001b[0;36m_CategoricalPlotter.establish_variables\u001b[0;34m(self, x, y, hue, data, orient, order, hue_order, units)\u001b[0m\n\u001b[1;32m    541\u001b[0m         \u001b[39mraise\u001b[39;00m \u001b[39mValueError\u001b[39;00m(err)\n\u001b[1;32m    543\u001b[0m \u001b[39m# Figure out the plotting orientation\u001b[39;00m\n\u001b[0;32m--> 544\u001b[0m orient \u001b[39m=\u001b[39m infer_orient(\n\u001b[1;32m    545\u001b[0m     x, y, orient, require_numeric\u001b[39m=\u001b[39;49m\u001b[39mself\u001b[39;49m\u001b[39m.\u001b[39;49mrequire_numeric\n\u001b[1;32m    546\u001b[0m )\n\u001b[1;32m    548\u001b[0m \u001b[39m# Option 2a:\u001b[39;00m\n\u001b[1;32m    549\u001b[0m \u001b[39m# We are plotting a single set of data\u001b[39;00m\n\u001b[1;32m    550\u001b[0m \u001b[39m# ------------------------------------\u001b[39;00m\n\u001b[1;32m    551\u001b[0m \u001b[39mif\u001b[39;00m x \u001b[39mis\u001b[39;00m \u001b[39mNone\u001b[39;00m \u001b[39mor\u001b[39;00m y \u001b[39mis\u001b[39;00m \u001b[39mNone\u001b[39;00m:\n\u001b[1;32m    552\u001b[0m \n\u001b[1;32m    553\u001b[0m     \u001b[39m# Determine where the data are\u001b[39;00m\n",
      "File \u001b[0;32m~/.local/lib/python3.10/site-packages/seaborn/_oldcore.py:1632\u001b[0m, in \u001b[0;36minfer_orient\u001b[0;34m(x, y, orient, require_numeric)\u001b[0m\n\u001b[1;32m   1630\u001b[0m \u001b[39melif\u001b[39;00m require_numeric \u001b[39mand\u001b[39;00m \u001b[39m\"\u001b[39m\u001b[39mnumeric\u001b[39m\u001b[39m\"\u001b[39m \u001b[39mnot\u001b[39;00m \u001b[39min\u001b[39;00m (x_type, y_type):\n\u001b[1;32m   1631\u001b[0m     err \u001b[39m=\u001b[39m \u001b[39m\"\u001b[39m\u001b[39mNeither the `x` nor `y` variable appears to be numeric.\u001b[39m\u001b[39m\"\u001b[39m\n\u001b[0;32m-> 1632\u001b[0m     \u001b[39mraise\u001b[39;00m \u001b[39mTypeError\u001b[39;00m(err)\n\u001b[1;32m   1634\u001b[0m \u001b[39melse\u001b[39;00m:\n\u001b[1;32m   1635\u001b[0m     \u001b[39mreturn\u001b[39;00m \u001b[39m\"\u001b[39m\u001b[39mv\u001b[39m\u001b[39m\"\u001b[39m\n",
      "\u001b[0;31mTypeError\u001b[0m: Neither the `x` nor `y` variable appears to be numeric."
     ]
    }
   ],
   "source": [
    "g = sns.catplot(data=salary.sample(3755), x='job_title', y='salary_in_usd', kind='box', aspect=3.0)\n",
    "g.set_axis_labels(\"\", \"Salary (USD)\")\n",
    "g.set_xticklabels(rotation=90);"
   ]
  },
  {
   "attachments": {},
   "cell_type": "markdown",
   "metadata": {},
   "source": [
    "### Try the Easy Solution First"
   ]
  },
  {
   "cell_type": "code",
   "execution_count": 33,
   "metadata": {},
   "outputs": [],
   "source": [
    "salary['salary_in_usd'] = salary.salary_in_usd.map(lambda x: 'high' if x < -100 else 'low')"
   ]
  },
  {
   "cell_type": "code",
   "execution_count": 35,
   "metadata": {},
   "outputs": [
    {
     "data": {
      "text/html": [
       "<div>\n",
       "<style scoped>\n",
       "    .dataframe tbody tr th:only-of-type {\n",
       "        vertical-align: middle;\n",
       "    }\n",
       "\n",
       "    .dataframe tbody tr th {\n",
       "        vertical-align: top;\n",
       "    }\n",
       "\n",
       "    .dataframe thead th {\n",
       "        text-align: right;\n",
       "    }\n",
       "</style>\n",
       "<table border=\"1\" class=\"dataframe\">\n",
       "  <thead>\n",
       "    <tr style=\"text-align: right;\">\n",
       "      <th></th>\n",
       "      <th>count</th>\n",
       "      <th>unique</th>\n",
       "      <th>top</th>\n",
       "      <th>freq</th>\n",
       "    </tr>\n",
       "    <tr>\n",
       "      <th>salary_in_usd</th>\n",
       "      <th></th>\n",
       "      <th></th>\n",
       "      <th></th>\n",
       "      <th></th>\n",
       "    </tr>\n",
       "  </thead>\n",
       "  <tbody>\n",
       "    <tr>\n",
       "      <th>low</th>\n",
       "      <td>3755</td>\n",
       "      <td>1</td>\n",
       "      <td>low</td>\n",
       "      <td>3755</td>\n",
       "    </tr>\n",
       "  </tbody>\n",
       "</table>\n",
       "</div>"
      ],
      "text/plain": [
       "              count unique  top  freq\n",
       "salary_in_usd                        \n",
       "low            3755      1  low  3755"
      ]
     },
     "execution_count": 35,
     "metadata": {},
     "output_type": "execute_result"
    }
   ],
   "source": [
    "salary.groupby(by='salary_in_usd').salary_in_usd.describe()"
   ]
  },
  {
   "cell_type": "code",
   "execution_count": null,
   "metadata": {},
   "outputs": [],
   "source": [
    "g = sns.catplot(data=salary.sample(1000000), x='Region', y='Sample_Measurement', kind='box', aspect=2.0)\n",
    "g.set_axis_labels(\"\", \"Ozone level (ppm)\")\n",
    "g.set_xticklabels(rotation=90);"
   ]
  },
  {
   "attachments": {},
   "cell_type": "markdown",
   "metadata": {},
   "source": [
    "#### Challenge Your Solution"
   ]
  },
  {
   "cell_type": "code",
   "execution_count": null,
   "metadata": {},
   "outputs": [],
   "source": [
    "salary.loc[~salary.State_Name.isin(['Puerto Rico'])].groupby(by='Region').Sample_Measurement.describe()"
   ]
  }
 ],
 "metadata": {
  "kernelspec": {
   "display_name": "Python 3",
   "language": "python",
   "name": "python3"
  },
  "language_info": {
   "codemirror_mode": {
    "name": "ipython",
    "version": 3
   },
   "file_extension": ".py",
   "mimetype": "text/x-python",
   "name": "python",
   "nbconvert_exporter": "python",
   "pygments_lexer": "ipython3",
   "version": "3.10.4"
  },
  "orig_nbformat": 4
 },
 "nbformat": 4,
 "nbformat_minor": 2
}
