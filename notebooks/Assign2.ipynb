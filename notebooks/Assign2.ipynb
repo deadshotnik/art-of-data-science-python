{
 "cells": [
  {
   "attachments": {},
   "cell_type": "markdown",
   "metadata": {},
   "source": [
    "### Importing Pandas library and set as \"pd\""
   ]
  },
  {
   "cell_type": "code",
   "execution_count": 2,
   "metadata": {},
   "outputs": [],
   "source": [
    "import pandas as pd\n",
    "import datetime\n",
    "%matplotlib inline"
   ]
  },
  {
   "attachments": {},
   "cell_type": "markdown",
   "metadata": {},
   "source": [
    "## Section 4.2: Read in your data"
   ]
  },
  {
   "attachments": {},
   "cell_type": "markdown",
   "metadata": {},
   "source": [
    "Data file salaries.csv was used for this exercise. Data source is Kaggle: https://www.kaggle.com/datasets/arnabchaki/data-science-salaries-2023 \n",
    "\n",
    "Column names are created, and set either, integer, category or float data types, depending on the underlying data.\n",
    "Spaces are replaced with Underscores. The created Dtypes are displayed below in the output"
   ]
  },
  {
   "cell_type": "code",
   "execution_count": 40,
   "metadata": {},
   "outputs": [
    {
     "data": {
      "text/plain": [
       "work_year               object\n",
       "experience_level      category\n",
       "employment_type       category\n",
       "job_title             category\n",
       "salary                 float64\n",
       "salary_currency       category\n",
       "salary_in_usd          float64\n",
       "employee_residence    category\n",
       "remote_ratio            object\n",
       "company_location      category\n",
       "company_size          category\n",
       "dtype: object"
      ]
     },
     "execution_count": 40,
     "metadata": {},
     "output_type": "execute_result"
    }
   ],
   "source": [
    "salary = pd.read_csv('../data/ds_salaries.csv',  \n",
    "                     dtype={'work_year': 'object',\n",
    "                           'experience_level': 'category',                                                    \n",
    "                           'employment_type': 'category',\n",
    "                           'job_title': 'category',\n",
    "                           'salary': 'float64',\n",
    "                           'salary_currency': 'category',\n",
    "                           'job_title': 'category',\n",
    "                           'salary_in_usd': 'float64',\n",
    "                           'employee_residence': 'category',\n",
    "                           'remote_ratio': 'object',\n",
    "                           'company_location': 'category',                                                      \n",
    "                           'company_size': 'category',},\n",
    "                           nrows=5000,\n",
    "                    )\n",
    "salary.rename(columns=lambda x: x.strip(\" \").replace(' ', '_'), inplace=True)\n",
    "salary.dtypes"
   ]
  },
  {
   "attachments": {},
   "cell_type": "markdown",
   "metadata": {},
   "source": [
    "## Section 4.3: Validating the packaging"
   ]
  },
  {
   "cell_type": "code",
   "execution_count": 21,
   "metadata": {},
   "outputs": [
    {
     "name": "stdout",
     "output_type": "stream",
     "text": [
      "(3755, 11)\n",
      "This data has 3755 Rows and 11 columns\n"
     ]
    }
   ],
   "source": [
    "print(salary.shape)\n",
    "print(\"This data has\", len(salary.index),\"Rows and\", len(salary.columns), \"columns\" )"
   ]
  },
  {
   "cell_type": "code",
   "execution_count": 41,
   "metadata": {},
   "outputs": [
    {
     "data": {
      "text/html": [
       "<div>\n",
       "<style scoped>\n",
       "    .dataframe tbody tr th:only-of-type {\n",
       "        vertical-align: middle;\n",
       "    }\n",
       "\n",
       "    .dataframe tbody tr th {\n",
       "        vertical-align: top;\n",
       "    }\n",
       "\n",
       "    .dataframe thead th {\n",
       "        text-align: right;\n",
       "    }\n",
       "</style>\n",
       "<table border=\"1\" class=\"dataframe\">\n",
       "  <thead>\n",
       "    <tr style=\"text-align: right;\">\n",
       "      <th></th>\n",
       "      <th>count</th>\n",
       "      <th>unique</th>\n",
       "      <th>top</th>\n",
       "      <th>freq</th>\n",
       "      <th>mean</th>\n",
       "      <th>std</th>\n",
       "      <th>min</th>\n",
       "      <th>25%</th>\n",
       "      <th>50%</th>\n",
       "      <th>75%</th>\n",
       "      <th>max</th>\n",
       "    </tr>\n",
       "  </thead>\n",
       "  <tbody>\n",
       "    <tr>\n",
       "      <th>work_year</th>\n",
       "      <td>3755</td>\n",
       "      <td>4</td>\n",
       "      <td>2023</td>\n",
       "      <td>1785</td>\n",
       "      <td>NaN</td>\n",
       "      <td>NaN</td>\n",
       "      <td>NaN</td>\n",
       "      <td>NaN</td>\n",
       "      <td>NaN</td>\n",
       "      <td>NaN</td>\n",
       "      <td>NaN</td>\n",
       "    </tr>\n",
       "    <tr>\n",
       "      <th>experience_level</th>\n",
       "      <td>3755</td>\n",
       "      <td>4</td>\n",
       "      <td>SE</td>\n",
       "      <td>2516</td>\n",
       "      <td>NaN</td>\n",
       "      <td>NaN</td>\n",
       "      <td>NaN</td>\n",
       "      <td>NaN</td>\n",
       "      <td>NaN</td>\n",
       "      <td>NaN</td>\n",
       "      <td>NaN</td>\n",
       "    </tr>\n",
       "    <tr>\n",
       "      <th>employment_type</th>\n",
       "      <td>3755</td>\n",
       "      <td>4</td>\n",
       "      <td>FT</td>\n",
       "      <td>3718</td>\n",
       "      <td>NaN</td>\n",
       "      <td>NaN</td>\n",
       "      <td>NaN</td>\n",
       "      <td>NaN</td>\n",
       "      <td>NaN</td>\n",
       "      <td>NaN</td>\n",
       "      <td>NaN</td>\n",
       "    </tr>\n",
       "    <tr>\n",
       "      <th>job_title</th>\n",
       "      <td>3755</td>\n",
       "      <td>93</td>\n",
       "      <td>Data Engineer</td>\n",
       "      <td>1040</td>\n",
       "      <td>NaN</td>\n",
       "      <td>NaN</td>\n",
       "      <td>NaN</td>\n",
       "      <td>NaN</td>\n",
       "      <td>NaN</td>\n",
       "      <td>NaN</td>\n",
       "      <td>NaN</td>\n",
       "    </tr>\n",
       "    <tr>\n",
       "      <th>salary</th>\n",
       "      <td>3755.0</td>\n",
       "      <td>NaN</td>\n",
       "      <td>NaN</td>\n",
       "      <td>NaN</td>\n",
       "      <td>190695.571771</td>\n",
       "      <td>671676.500508</td>\n",
       "      <td>6000.0</td>\n",
       "      <td>100000.0</td>\n",
       "      <td>138000.0</td>\n",
       "      <td>180000.0</td>\n",
       "      <td>30400000.0</td>\n",
       "    </tr>\n",
       "    <tr>\n",
       "      <th>salary_currency</th>\n",
       "      <td>3755</td>\n",
       "      <td>20</td>\n",
       "      <td>USD</td>\n",
       "      <td>3224</td>\n",
       "      <td>NaN</td>\n",
       "      <td>NaN</td>\n",
       "      <td>NaN</td>\n",
       "      <td>NaN</td>\n",
       "      <td>NaN</td>\n",
       "      <td>NaN</td>\n",
       "      <td>NaN</td>\n",
       "    </tr>\n",
       "    <tr>\n",
       "      <th>salary_in_usd</th>\n",
       "      <td>3755.0</td>\n",
       "      <td>NaN</td>\n",
       "      <td>NaN</td>\n",
       "      <td>NaN</td>\n",
       "      <td>137570.38988</td>\n",
       "      <td>63055.625278</td>\n",
       "      <td>5132.0</td>\n",
       "      <td>95000.0</td>\n",
       "      <td>135000.0</td>\n",
       "      <td>175000.0</td>\n",
       "      <td>450000.0</td>\n",
       "    </tr>\n",
       "    <tr>\n",
       "      <th>employee_residence</th>\n",
       "      <td>3755</td>\n",
       "      <td>78</td>\n",
       "      <td>US</td>\n",
       "      <td>3004</td>\n",
       "      <td>NaN</td>\n",
       "      <td>NaN</td>\n",
       "      <td>NaN</td>\n",
       "      <td>NaN</td>\n",
       "      <td>NaN</td>\n",
       "      <td>NaN</td>\n",
       "      <td>NaN</td>\n",
       "    </tr>\n",
       "    <tr>\n",
       "      <th>remote_ratio</th>\n",
       "      <td>3755</td>\n",
       "      <td>3</td>\n",
       "      <td>0</td>\n",
       "      <td>1923</td>\n",
       "      <td>NaN</td>\n",
       "      <td>NaN</td>\n",
       "      <td>NaN</td>\n",
       "      <td>NaN</td>\n",
       "      <td>NaN</td>\n",
       "      <td>NaN</td>\n",
       "      <td>NaN</td>\n",
       "    </tr>\n",
       "    <tr>\n",
       "      <th>company_location</th>\n",
       "      <td>3755</td>\n",
       "      <td>72</td>\n",
       "      <td>US</td>\n",
       "      <td>3040</td>\n",
       "      <td>NaN</td>\n",
       "      <td>NaN</td>\n",
       "      <td>NaN</td>\n",
       "      <td>NaN</td>\n",
       "      <td>NaN</td>\n",
       "      <td>NaN</td>\n",
       "      <td>NaN</td>\n",
       "    </tr>\n",
       "    <tr>\n",
       "      <th>company_size</th>\n",
       "      <td>3755</td>\n",
       "      <td>3</td>\n",
       "      <td>M</td>\n",
       "      <td>3153</td>\n",
       "      <td>NaN</td>\n",
       "      <td>NaN</td>\n",
       "      <td>NaN</td>\n",
       "      <td>NaN</td>\n",
       "      <td>NaN</td>\n",
       "      <td>NaN</td>\n",
       "      <td>NaN</td>\n",
       "    </tr>\n",
       "  </tbody>\n",
       "</table>\n",
       "</div>"
      ],
      "text/plain": [
       "                     count unique            top  freq           mean   \n",
       "work_year             3755      4           2023  1785            NaN  \\\n",
       "experience_level      3755      4             SE  2516            NaN   \n",
       "employment_type       3755      4             FT  3718            NaN   \n",
       "job_title             3755     93  Data Engineer  1040            NaN   \n",
       "salary              3755.0    NaN            NaN   NaN  190695.571771   \n",
       "salary_currency       3755     20            USD  3224            NaN   \n",
       "salary_in_usd       3755.0    NaN            NaN   NaN   137570.38988   \n",
       "employee_residence    3755     78             US  3004            NaN   \n",
       "remote_ratio          3755      3              0  1923            NaN   \n",
       "company_location      3755     72             US  3040            NaN   \n",
       "company_size          3755      3              M  3153            NaN   \n",
       "\n",
       "                              std     min       25%       50%       75%   \n",
       "work_year                     NaN     NaN       NaN       NaN       NaN  \\\n",
       "experience_level              NaN     NaN       NaN       NaN       NaN   \n",
       "employment_type               NaN     NaN       NaN       NaN       NaN   \n",
       "job_title                     NaN     NaN       NaN       NaN       NaN   \n",
       "salary              671676.500508  6000.0  100000.0  138000.0  180000.0   \n",
       "salary_currency               NaN     NaN       NaN       NaN       NaN   \n",
       "salary_in_usd        63055.625278  5132.0   95000.0  135000.0  175000.0   \n",
       "employee_residence            NaN     NaN       NaN       NaN       NaN   \n",
       "remote_ratio                  NaN     NaN       NaN       NaN       NaN   \n",
       "company_location              NaN     NaN       NaN       NaN       NaN   \n",
       "company_size                  NaN     NaN       NaN       NaN       NaN   \n",
       "\n",
       "                           max  \n",
       "work_year                  NaN  \n",
       "experience_level           NaN  \n",
       "employment_type            NaN  \n",
       "job_title                  NaN  \n",
       "salary              30400000.0  \n",
       "salary_currency            NaN  \n",
       "salary_in_usd         450000.0  \n",
       "employee_residence         NaN  \n",
       "remote_ratio               NaN  \n",
       "company_location           NaN  \n",
       "company_size               NaN  "
      ]
     },
     "execution_count": 41,
     "metadata": {},
     "output_type": "execute_result"
    }
   ],
   "source": [
    "##Decribe() function does a statistical analysis on the data.\n",
    "salary.describe(include='all').T"
   ]
  },
  {
   "cell_type": "code",
   "execution_count": 10,
   "metadata": {},
   "outputs": [
    {
     "data": {
      "text/html": [
       "<div>\n",
       "<style scoped>\n",
       "    .dataframe tbody tr th:only-of-type {\n",
       "        vertical-align: middle;\n",
       "    }\n",
       "\n",
       "    .dataframe tbody tr th {\n",
       "        vertical-align: top;\n",
       "    }\n",
       "\n",
       "    .dataframe thead th {\n",
       "        text-align: right;\n",
       "    }\n",
       "</style>\n",
       "<table border=\"1\" class=\"dataframe\">\n",
       "  <thead>\n",
       "    <tr style=\"text-align: right;\">\n",
       "      <th></th>\n",
       "      <th>1822</th>\n",
       "      <th>827</th>\n",
       "      <th>815</th>\n",
       "      <th>2649</th>\n",
       "      <th>1759</th>\n",
       "    </tr>\n",
       "  </thead>\n",
       "  <tbody>\n",
       "    <tr>\n",
       "      <th>work_year</th>\n",
       "      <td>2022</td>\n",
       "      <td>2023</td>\n",
       "      <td>2023</td>\n",
       "      <td>2022</td>\n",
       "      <td>2023</td>\n",
       "    </tr>\n",
       "    <tr>\n",
       "      <th>experience_level</th>\n",
       "      <td>SE</td>\n",
       "      <td>SE</td>\n",
       "      <td>SE</td>\n",
       "      <td>MI</td>\n",
       "      <td>SE</td>\n",
       "    </tr>\n",
       "    <tr>\n",
       "      <th>employment_type</th>\n",
       "      <td>FT</td>\n",
       "      <td>FT</td>\n",
       "      <td>FT</td>\n",
       "      <td>FT</td>\n",
       "      <td>FT</td>\n",
       "    </tr>\n",
       "    <tr>\n",
       "      <th>job_title</th>\n",
       "      <td>Data Engineer</td>\n",
       "      <td>Data Analyst</td>\n",
       "      <td>Data Engineer</td>\n",
       "      <td>Data Analyst</td>\n",
       "      <td>Data Scientist</td>\n",
       "    </tr>\n",
       "    <tr>\n",
       "      <th>salary</th>\n",
       "      <td>175000.0</td>\n",
       "      <td>119500.0</td>\n",
       "      <td>106800.0</td>\n",
       "      <td>62000.0</td>\n",
       "      <td>198200.0</td>\n",
       "    </tr>\n",
       "    <tr>\n",
       "      <th>salary_currency</th>\n",
       "      <td>USD</td>\n",
       "      <td>USD</td>\n",
       "      <td>USD</td>\n",
       "      <td>USD</td>\n",
       "      <td>USD</td>\n",
       "    </tr>\n",
       "    <tr>\n",
       "      <th>salary_in_usd</th>\n",
       "      <td>175000.0</td>\n",
       "      <td>119500.0</td>\n",
       "      <td>106800.0</td>\n",
       "      <td>62000.0</td>\n",
       "      <td>198200.0</td>\n",
       "    </tr>\n",
       "    <tr>\n",
       "      <th>employee_residence</th>\n",
       "      <td>US</td>\n",
       "      <td>US</td>\n",
       "      <td>US</td>\n",
       "      <td>US</td>\n",
       "      <td>US</td>\n",
       "    </tr>\n",
       "    <tr>\n",
       "      <th>remote_ratio</th>\n",
       "      <td>0</td>\n",
       "      <td>100</td>\n",
       "      <td>100</td>\n",
       "      <td>0</td>\n",
       "      <td>0</td>\n",
       "    </tr>\n",
       "    <tr>\n",
       "      <th>company_location</th>\n",
       "      <td>US</td>\n",
       "      <td>US</td>\n",
       "      <td>US</td>\n",
       "      <td>US</td>\n",
       "      <td>US</td>\n",
       "    </tr>\n",
       "    <tr>\n",
       "      <th>company_size</th>\n",
       "      <td>M</td>\n",
       "      <td>M</td>\n",
       "      <td>M</td>\n",
       "      <td>M</td>\n",
       "      <td>M</td>\n",
       "    </tr>\n",
       "  </tbody>\n",
       "</table>\n",
       "</div>"
      ],
      "text/plain": [
       "                             1822          827            815           2649   \n",
       "work_year                    2022          2023           2023          2022  \\\n",
       "experience_level               SE            SE             SE            MI   \n",
       "employment_type                FT            FT             FT            FT   \n",
       "job_title           Data Engineer  Data Analyst  Data Engineer  Data Analyst   \n",
       "salary                   175000.0      119500.0       106800.0       62000.0   \n",
       "salary_currency               USD           USD            USD           USD   \n",
       "salary_in_usd            175000.0      119500.0       106800.0       62000.0   \n",
       "employee_residence             US            US             US            US   \n",
       "remote_ratio                    0           100            100             0   \n",
       "company_location               US            US             US            US   \n",
       "company_size                    M             M              M             M   \n",
       "\n",
       "                              1759  \n",
       "work_year                     2023  \n",
       "experience_level                SE  \n",
       "employment_type                 FT  \n",
       "job_title           Data Scientist  \n",
       "salary                    198200.0  \n",
       "salary_currency                USD  \n",
       "salary_in_usd             198200.0  \n",
       "employee_residence              US  \n",
       "remote_ratio                     0  \n",
       "company_location                US  \n",
       "company_size                     M  "
      ]
     },
     "execution_count": 10,
     "metadata": {},
     "output_type": "execute_result"
    }
   ],
   "source": [
    "salary.sample(5).T"
   ]
  },
  {
   "attachments": {},
   "cell_type": "markdown",
   "metadata": {},
   "source": [
    "## Section 4.4: Look at the top and the bottom"
   ]
  },
  {
   "attachments": {},
   "cell_type": "markdown",
   "metadata": {},
   "source": [
    "The top 5 rows were validated against the csv file, and is correct"
   ]
  },
  {
   "cell_type": "code",
   "execution_count": 24,
   "metadata": {},
   "outputs": [
    {
     "data": {
      "text/html": [
       "<div>\n",
       "<style scoped>\n",
       "    .dataframe tbody tr th:only-of-type {\n",
       "        vertical-align: middle;\n",
       "    }\n",
       "\n",
       "    .dataframe tbody tr th {\n",
       "        vertical-align: top;\n",
       "    }\n",
       "\n",
       "    .dataframe thead th {\n",
       "        text-align: right;\n",
       "    }\n",
       "</style>\n",
       "<table border=\"1\" class=\"dataframe\">\n",
       "  <thead>\n",
       "    <tr style=\"text-align: right;\">\n",
       "      <th></th>\n",
       "      <th>experience_level</th>\n",
       "      <th>job_title</th>\n",
       "      <th>work_year</th>\n",
       "    </tr>\n",
       "  </thead>\n",
       "  <tbody>\n",
       "    <tr>\n",
       "      <th>0</th>\n",
       "      <td>SE</td>\n",
       "      <td>Principal Data Scientist</td>\n",
       "      <td>2023</td>\n",
       "    </tr>\n",
       "    <tr>\n",
       "      <th>1</th>\n",
       "      <td>MI</td>\n",
       "      <td>ML Engineer</td>\n",
       "      <td>2023</td>\n",
       "    </tr>\n",
       "    <tr>\n",
       "      <th>2</th>\n",
       "      <td>MI</td>\n",
       "      <td>ML Engineer</td>\n",
       "      <td>2023</td>\n",
       "    </tr>\n",
       "    <tr>\n",
       "      <th>3</th>\n",
       "      <td>SE</td>\n",
       "      <td>Data Scientist</td>\n",
       "      <td>2023</td>\n",
       "    </tr>\n",
       "    <tr>\n",
       "      <th>4</th>\n",
       "      <td>SE</td>\n",
       "      <td>Data Scientist</td>\n",
       "      <td>2023</td>\n",
       "    </tr>\n",
       "  </tbody>\n",
       "</table>\n",
       "</div>"
      ],
      "text/plain": [
       "  experience_level                 job_title work_year\n",
       "0               SE  Principal Data Scientist      2023\n",
       "1               MI               ML Engineer      2023\n",
       "2               MI               ML Engineer      2023\n",
       "3               SE            Data Scientist      2023\n",
       "4               SE            Data Scientist      2023"
      ]
     },
     "execution_count": 24,
     "metadata": {},
     "output_type": "execute_result"
    }
   ],
   "source": [
    "##returning the top 5 rows\n",
    "salary.iloc[:,[1,3,0]].head()"
   ]
  },
  {
   "attachments": {},
   "cell_type": "markdown",
   "metadata": {},
   "source": [
    "The bottom 5 rows were validated against the csv file, and is correct"
   ]
  },
  {
   "cell_type": "code",
   "execution_count": 36,
   "metadata": {},
   "outputs": [
    {
     "data": {
      "text/html": [
       "<div>\n",
       "<style scoped>\n",
       "    .dataframe tbody tr th:only-of-type {\n",
       "        vertical-align: middle;\n",
       "    }\n",
       "\n",
       "    .dataframe tbody tr th {\n",
       "        vertical-align: top;\n",
       "    }\n",
       "\n",
       "    .dataframe thead th {\n",
       "        text-align: right;\n",
       "    }\n",
       "</style>\n",
       "<table border=\"1\" class=\"dataframe\">\n",
       "  <thead>\n",
       "    <tr style=\"text-align: right;\">\n",
       "      <th></th>\n",
       "      <th>experience_level</th>\n",
       "      <th>job_title</th>\n",
       "      <th>work_year</th>\n",
       "    </tr>\n",
       "  </thead>\n",
       "  <tbody>\n",
       "    <tr>\n",
       "      <th>3750</th>\n",
       "      <td>SE</td>\n",
       "      <td>Data Scientist</td>\n",
       "      <td>2020</td>\n",
       "    </tr>\n",
       "    <tr>\n",
       "      <th>3751</th>\n",
       "      <td>MI</td>\n",
       "      <td>Principal Data Scientist</td>\n",
       "      <td>2021</td>\n",
       "    </tr>\n",
       "    <tr>\n",
       "      <th>3752</th>\n",
       "      <td>EN</td>\n",
       "      <td>Data Scientist</td>\n",
       "      <td>2020</td>\n",
       "    </tr>\n",
       "    <tr>\n",
       "      <th>3753</th>\n",
       "      <td>EN</td>\n",
       "      <td>Business Data Analyst</td>\n",
       "      <td>2020</td>\n",
       "    </tr>\n",
       "    <tr>\n",
       "      <th>3754</th>\n",
       "      <td>SE</td>\n",
       "      <td>Data Science Manager</td>\n",
       "      <td>2021</td>\n",
       "    </tr>\n",
       "  </tbody>\n",
       "</table>\n",
       "</div>"
      ],
      "text/plain": [
       "     experience_level                 job_title work_year\n",
       "3750               SE            Data Scientist      2020\n",
       "3751               MI  Principal Data Scientist      2021\n",
       "3752               EN            Data Scientist      2020\n",
       "3753               EN     Business Data Analyst      2020\n",
       "3754               SE      Data Science Manager      2021"
      ]
     },
     "execution_count": 36,
     "metadata": {},
     "output_type": "execute_result"
    }
   ],
   "source": [
    "##returning the bottom 5 rows\n",
    "salary.iloc[:,[1,3,0]].tail()"
   ]
  },
  {
   "attachments": {},
   "cell_type": "markdown",
   "metadata": {},
   "source": [
    "## Section 4.5: ABC: Always be Checking Your “n”s"
   ]
  },
  {
   "attachments": {},
   "cell_type": "markdown",
   "metadata": {},
   "source": [
    "Majority of the candidates (67%) were seniors (SE) and (21%) Mid/intermediate level (MI). So expecting to see the composition containing at least these two values."
   ]
  },
  {
   "cell_type": "code",
   "execution_count": 51,
   "metadata": {},
   "outputs": [
    {
     "data": {
      "text/plain": [
       "0     SE\n",
       "1     MI\n",
       "2     MI\n",
       "3     SE\n",
       "4     SE\n",
       "5     SE\n",
       "6     SE\n",
       "7     SE\n",
       "8     SE\n",
       "9     SE\n",
       "10    SE\n",
       "11    SE\n",
       "12    SE\n",
       "13    EN\n",
       "14    EN\n",
       "15    SE\n",
       "16    SE\n",
       "17    SE\n",
       "18    SE\n",
       "19    MI\n",
       "Name: experience_level, dtype: category\n",
       "Categories (4, object): ['EN', 'EX', 'MI', 'SE']"
      ]
     },
     "execution_count": 51,
     "metadata": {},
     "output_type": "execute_result"
    }
   ],
   "source": [
    "salary.experience_level.head(20)"
   ]
  },
  {
   "attachments": {},
   "cell_type": "markdown",
   "metadata": {},
   "source": [
    "There are only 4 types allowed employment types, being Full tume (FT), Part time (PT), Freelancer (FL) and Contractor (CT)"
   ]
  },
  {
   "cell_type": "code",
   "execution_count": 52,
   "metadata": {},
   "outputs": [
    {
     "data": {
      "text/plain": [
       "['FT', 'CT', 'FL', 'PT']\n",
       "Categories (4, object): ['CT', 'FL', 'FT', 'PT']"
      ]
     },
     "execution_count": 52,
     "metadata": {},
     "output_type": "execute_result"
    }
   ],
   "source": [
    "salary.employment_type.unique()"
   ]
  },
  {
   "attachments": {},
   "cell_type": "markdown",
   "metadata": {},
   "source": [
    "There are only 4 allowed experience levels, being (SE) Senior, (EN)Entry level, (EX) Executive level, and (MI) Mid/Intermediate level"
   ]
  },
  {
   "cell_type": "code",
   "execution_count": 47,
   "metadata": {},
   "outputs": [
    {
     "data": {
      "text/plain": [
       "['SE', 'MI', 'EN', 'EX']\n",
       "Categories (4, object): ['EN', 'EX', 'MI', 'SE']"
      ]
     },
     "execution_count": 47,
     "metadata": {},
     "output_type": "execute_result"
    }
   ],
   "source": [
    "salary.experience_level.unique()"
   ]
  },
  {
   "attachments": {},
   "cell_type": "markdown",
   "metadata": {},
   "source": [
    "An extract of data scientists that are Full time earning a salary above $300 000 in most recent year of 2023. Expecting 5 results."
   ]
  },
  {
   "cell_type": "code",
   "execution_count": 73,
   "metadata": {},
   "outputs": [
    {
     "data": {
      "text/html": [
       "<div>\n",
       "<style scoped>\n",
       "    .dataframe tbody tr th:only-of-type {\n",
       "        vertical-align: middle;\n",
       "    }\n",
       "\n",
       "    .dataframe tbody tr th {\n",
       "        vertical-align: top;\n",
       "    }\n",
       "\n",
       "    .dataframe thead th {\n",
       "        text-align: right;\n",
       "    }\n",
       "</style>\n",
       "<table border=\"1\" class=\"dataframe\">\n",
       "  <thead>\n",
       "    <tr style=\"text-align: right;\">\n",
       "      <th></th>\n",
       "      <th>employment_type</th>\n",
       "      <th>job_title</th>\n",
       "      <th>salary</th>\n",
       "      <th>salary_currency</th>\n",
       "      <th>work_year</th>\n",
       "    </tr>\n",
       "  </thead>\n",
       "  <tbody>\n",
       "    <tr>\n",
       "      <th>488</th>\n",
       "      <td>FT</td>\n",
       "      <td>Data Scientist</td>\n",
       "      <td>317070.0</td>\n",
       "      <td>USD</td>\n",
       "      <td>2023</td>\n",
       "    </tr>\n",
       "    <tr>\n",
       "      <th>1097</th>\n",
       "      <td>FT</td>\n",
       "      <td>Data Scientist</td>\n",
       "      <td>300240.0</td>\n",
       "      <td>USD</td>\n",
       "      <td>2023</td>\n",
       "    </tr>\n",
       "    <tr>\n",
       "      <th>1099</th>\n",
       "      <td>FT</td>\n",
       "      <td>Data Scientist</td>\n",
       "      <td>300240.0</td>\n",
       "      <td>USD</td>\n",
       "      <td>2023</td>\n",
       "    </tr>\n",
       "    <tr>\n",
       "      <th>1105</th>\n",
       "      <td>FT</td>\n",
       "      <td>Data Scientist</td>\n",
       "      <td>370000.0</td>\n",
       "      <td>USD</td>\n",
       "      <td>2023</td>\n",
       "    </tr>\n",
       "    <tr>\n",
       "      <th>1605</th>\n",
       "      <td>FT</td>\n",
       "      <td>Data Scientist</td>\n",
       "      <td>300000.0</td>\n",
       "      <td>USD</td>\n",
       "      <td>2023</td>\n",
       "    </tr>\n",
       "  </tbody>\n",
       "</table>\n",
       "</div>"
      ],
      "text/plain": [
       "     employment_type       job_title    salary salary_currency work_year\n",
       "488               FT  Data Scientist  317070.0             USD      2023\n",
       "1097              FT  Data Scientist  300240.0             USD      2023\n",
       "1099              FT  Data Scientist  300240.0             USD      2023\n",
       "1105              FT  Data Scientist  370000.0             USD      2023\n",
       "1605              FT  Data Scientist  300000.0             USD      2023"
      ]
     },
     "execution_count": 73,
     "metadata": {},
     "output_type": "execute_result"
    }
   ],
   "source": [
    "salary.loc[(salary.employment_type=='FT') & \n",
    "           (salary.job_title=='Data Scientist') &\n",
    "          (salary.salary >= 300000) &\n",
    "          (salary.salary_currency == 'USD') &\n",
    "          (salary.work_year >= '2023'),\n",
    "          ['employment_type','job_title','salary','salary_currency','work_year']]"
   ]
  },
  {
   "cell_type": "code",
   "execution_count": 74,
   "metadata": {},
   "outputs": [
    {
     "data": {
      "text/plain": [
       "93"
      ]
     },
     "execution_count": 74,
     "metadata": {},
     "output_type": "execute_result"
    }
   ],
   "source": [
    "len(salary.job_title.unique())"
   ]
  },
  {
   "cell_type": "code",
   "execution_count": 75,
   "metadata": {},
   "outputs": [
    {
     "data": {
      "text/plain": [
       "0     AUD\n",
       "1     BRL\n",
       "2     CAD\n",
       "3     CHF\n",
       "4     CLP\n",
       "5     CZK\n",
       "6     DKK\n",
       "7     EUR\n",
       "8     GBP\n",
       "9     HKD\n",
       "10    HUF\n",
       "11    ILS\n",
       "12    INR\n",
       "13    JPY\n",
       "14    MXN\n",
       "15    PLN\n",
       "16    SGD\n",
       "17    THB\n",
       "18    TRY\n",
       "19    USD\n",
       "dtype: object"
      ]
     },
     "execution_count": 75,
     "metadata": {},
     "output_type": "execute_result"
    }
   ],
   "source": [
    "pd.Series(salary.salary_currency.cat.categories)"
   ]
  },
  {
   "attachments": {},
   "cell_type": "markdown",
   "metadata": {},
   "source": [
    "## Section 4.6: Validate With at Least One External Data Source"
   ]
  },
  {
   "attachments": {},
   "cell_type": "markdown",
   "metadata": {},
   "source": [
    "The sample size contains majority Senior individuals. 4 different expereince levels are avaliable. SE roles appeared 2516 of the total sample which is approximately 67%."
   ]
  },
  {
   "cell_type": "code",
   "execution_count": 30,
   "metadata": {},
   "outputs": [
    {
     "data": {
      "text/plain": [
       "count     3755\n",
       "unique       4\n",
       "top         SE\n",
       "freq      2516\n",
       "Name: experience_level, dtype: object"
      ]
     },
     "execution_count": 30,
     "metadata": {},
     "output_type": "execute_result"
    }
   ],
   "source": [
    "salary.experience_level.describe()"
   ]
  },
  {
   "attachments": {},
   "cell_type": "markdown",
   "metadata": {},
   "source": [
    "The salary values were sampled and grouped into different quantiles. Majority of roles within the 4th till 8th quantile."
   ]
  },
  {
   "cell_type": "code",
   "execution_count": 32,
   "metadata": {},
   "outputs": [
    {
     "data": {
      "text/plain": [
       "0.0        6000.0\n",
       "0.1       60000.0\n",
       "0.2       85000.0\n",
       "0.3      106260.0\n",
       "0.4      123628.8\n",
       "0.5      138000.0\n",
       "0.6      150000.0\n",
       "0.7      170000.0\n",
       "0.8      191475.0\n",
       "0.9      228600.0\n",
       "1.0    30400000.0\n",
       "Name: salary, dtype: float64"
      ]
     },
     "execution_count": 32,
     "metadata": {},
     "output_type": "execute_result"
    }
   ],
   "source": [
    "salary.salary.quantile([0.0,0.1,0.2,0.3,0.4,0.5,0.6,0.7,0.8,0.9,1.0])"
   ]
  }
 ],
 "metadata": {
  "kernelspec": {
   "display_name": "Python 3",
   "language": "python",
   "name": "python3"
  },
  "language_info": {
   "codemirror_mode": {
    "name": "ipython",
    "version": 3
   },
   "file_extension": ".py",
   "mimetype": "text/x-python",
   "name": "python",
   "nbconvert_exporter": "python",
   "pygments_lexer": "ipython3",
   "version": "3.10.4"
  },
  "orig_nbformat": 4
 },
 "nbformat": 4,
 "nbformat_minor": 2
}
